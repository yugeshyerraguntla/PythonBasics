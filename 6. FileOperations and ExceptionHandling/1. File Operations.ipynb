{
 "cells": [
  {
   "cell_type": "markdown",
   "metadata": {},
   "source": [
    "In this File:\n",
    "FILE OPERATIONS\n",
    "\n",
    "\n",
    "- In Python, files are treated in two modes as text or binary. The file may be in the text or binary format, and each line of a file is ended with the special character.\n",
    "\n",
    "Hence, a file operation can be done in the following order.\n",
    "- Open a file\n",
    "- Read or write - Performing operation\n",
    "- Close the file"
   ]
  },
  {
   "cell_type": "markdown",
   "metadata": {},
   "source": [
    "-------------------------------------------------------------------------------------------------------------------------------\n",
    "#### 1. open()\n",
    "\n",
    "- Accepts 2 arguments. file name and access mode in which the file is accessed. \n",
    "- The function returns a file object which can be used to perform various operations like reading, writing, etc.\n",
    "\n",
    "#### file object = open(file-name, access-mode, buffering)\n",
    "\"x\" - Create - Creates the specified file, returns an error if the file exists\n",
    "\n",
    "\"r\" - Read - Default value. Opens a file for reading, error if the file does not exist\n",
    "\n",
    "\"a\" - Append - Opens a file for appending, creates the file if it does not exist\n",
    "\n",
    "\"w\" - Write - Opens a file for writing, creates the file if it does not exist\n",
    "\n",
    "-------------------------------------------------------------------------------------------------------------------------------\n",
    "\"t\" - Text - Default value. Text mode\n",
    "\n",
    "\"b\" - Binary - Binary mode (e.g. images)\n",
    "\n",
    "\n",
    "- To open a file for reading it is enough to specify the name of the file:\n",
    "_f = open(\"demofile.txt\")_  is same as _f = open(\"demofile.txt\", \"rt\")_"
   ]
  },
  {
   "cell_type": "code",
   "execution_count": 1,
   "metadata": {},
   "outputs": [
    {
     "name": "stdout",
     "output_type": "stream",
     "text": [
      "file1 is created successfully\n"
     ]
    }
   ],
   "source": [
    "# Creating a file - x\n",
    "fileptr = open(\"file1.txt\",\"x\")    \n",
    "    \n",
    "if fileptr:    \n",
    "    print(\"file1 is created successfully\") "
   ]
  },
  {
   "cell_type": "code",
   "execution_count": 7,
   "metadata": {},
   "outputs": [
    {
     "name": "stdout",
     "output_type": "stream",
     "text": [
      "file2 is created successfully\n"
     ]
    }
   ],
   "source": [
    "# Open a file for writing - w. If the file doesnot exist, it creates a new one. If a file already exists, it overwrites.\n",
    "fileptr = open(\"file2.txt\",\"w\")    \n",
    "    \n",
    "if fileptr:    \n",
    "    print(\"file2 is created successfully\")\n",
    "    fileptr.write(\"This is the write command\")\n",
    "    fileptr.write(\"\\n\")\n",
    "    fileptr.write(\"It allows us to write in a particular file\")\n",
    "    fileptr.close()     \n",
    "else:\n",
    "    print(\"Unable to create that file\")"
   ]
  },
  {
   "cell_type": "code",
   "execution_count": 9,
   "metadata": {},
   "outputs": [
    {
     "name": "stdout",
     "output_type": "stream",
     "text": [
      "Adding content to file!Adding content to file!\n"
     ]
    }
   ],
   "source": [
    "fileptr = open(\"file1.txt\", \"a\")\n",
    "fileptr.write(\"Adding content to file!\")\n",
    "fileptr.close()\n",
    "\n",
    "#open and read the file after the appending:\n",
    "f = open(\"file1.txt\", \"r\")\n",
    "print(f.read())"
   ]
  },
  {
   "cell_type": "code",
   "execution_count": 10,
   "metadata": {},
   "outputs": [
    {
     "name": "stdout",
     "output_type": "stream",
     "text": [
      "Woops! I have deleted the content and overriding the content!\n"
     ]
    }
   ],
   "source": [
    "f = open(\"file1.txt\", \"w\")\n",
    "f.write(\"Woops! I have deleted the content and overriding the content!\")\n",
    "f.close()\n",
    "\n",
    "#open and read the file after the appending:\n",
    "f = open(\"file1.txt\", \"r\")\n",
    "print(f.read())"
   ]
  },
  {
   "cell_type": "markdown",
   "metadata": {},
   "source": [
    "#### 2. close() method\n",
    "Any unwritten information gets destroyed once the close() method is called on a file object.\n",
    "\n",
    "Syntax: fileobject.close() "
   ]
  },
  {
   "cell_type": "markdown",
   "metadata": {},
   "source": [
    "#### 3. The with statement\n",
    "- With statement is useful in the case of manipulating the files. It is used in the scenario where a pair of statements is to be executed with a block of code in between.\n",
    "\n",
    "with open(file name, access mode) as file-pointer:    \n",
    "    statement suite     "
   ]
  },
  {
   "cell_type": "code",
   "execution_count": 11,
   "metadata": {},
   "outputs": [
    {
     "name": "stdout",
     "output_type": "stream",
     "text": [
      "This is the write command\n",
      "It allows us to write in a particular file\n"
     ]
    }
   ],
   "source": [
    "with open(\"file2.txt\",'r') as f:    \n",
    "    content = f.read();    \n",
    "    print(content)    "
   ]
  },
  {
   "cell_type": "markdown",
   "metadata": {},
   "source": [
    "split() - splits the variable when space is encountered. You can also split using any characters as we wish."
   ]
  },
  {
   "cell_type": "code",
   "execution_count": 13,
   "metadata": {},
   "outputs": [
    {
     "name": "stdout",
     "output_type": "stream",
     "text": [
      "['This', 'is', 'the', 'write', 'command']\n",
      "['It', 'allows', 'us', 'to', 'write', 'in', 'a', 'particular', 'file']\n"
     ]
    }
   ],
   "source": [
    "with open(\"file2.txt\", \"r\") as file:\n",
    "    data = file.readlines()\n",
    "    for line in data:\n",
    "        word = line.split()\n",
    "        print (word)"
   ]
  },
  {
   "cell_type": "markdown",
   "metadata": {},
   "source": [
    "- Python os module enables interaction with the operating system.\n",
    "#### rename(current-name, new-name) \n",
    "\n",
    "import os    \n",
    "  \n",
    "#rename file2.txt to file3.txt    \n",
    "os.rename(\"file2.txt\",\"file3.txt\")\n",
    "\n",
    "#### remove(\"filename\")\n",
    "import os\n",
    "os.remove(\"demofile.txt\")\n",
    "\n",
    "-------------------------------------------------------------------------------------------------------------------------------\n",
    "-------------------------------------------------------------------------------------------------------------------------------"
   ]
  },
  {
   "cell_type": "markdown",
   "metadata": {},
   "source": [
    "### Working with Excel Files\n",
    "- For working with Excel files, we need extra library. We can use any of the following\n",
    "    - xlrd\n",
    "    - pandas\n",
    "    - openpyxl"
   ]
  }
 ],
 "metadata": {
  "kernelspec": {
   "display_name": "Python 3",
   "language": "python",
   "name": "python3"
  },
  "language_info": {
   "codemirror_mode": {
    "name": "ipython",
    "version": 3
   },
   "file_extension": ".py",
   "mimetype": "text/x-python",
   "name": "python",
   "nbconvert_exporter": "python",
   "pygments_lexer": "ipython3",
   "version": "3.8.5"
  }
 },
 "nbformat": 4,
 "nbformat_minor": 4
}
