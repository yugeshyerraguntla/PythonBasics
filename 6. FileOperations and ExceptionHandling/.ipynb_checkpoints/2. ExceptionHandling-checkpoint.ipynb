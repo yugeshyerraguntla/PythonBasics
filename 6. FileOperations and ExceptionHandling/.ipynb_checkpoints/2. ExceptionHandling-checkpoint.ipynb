{
 "cells": [
  {
   "cell_type": "markdown",
   "metadata": {},
   "source": [
    "Error vs Exception\n",
    "- Error:\n",
    "    - This error is caused by wrong syntax in the code. It leads to the termination of the program.\n",
    "- Exceptions:\n",
    "    - Exceptions are raised when the program is syntactically correct but the code resulted in an error. \n",
    "    - This error does not stop the execution of the program, however, it changes the normal flow of the program."
   ]
  },
  {
   "cell_type": "markdown",
   "metadata": {},
   "source": [
    "#### Common Exceptions\n",
    "Python provides the number of built-in exceptions for example:\n",
    "   - ZeroDivisionError: Occurs when a number is divided by zero.\n",
    "   - NameError: It occurs when a name is not found. It may be local or global.\n",
    "   - IndentationError: If incorrect indentation is given.\n",
    "   - IOError: It occurs when Input Output operation fails.\n",
    "   - EOFError: It occurs when the end of the file is reached, and yet operations are being performed."
   ]
  },
  {
   "cell_type": "markdown",
   "metadata": {},
   "source": [
    "#### Exception Handling\n",
    "\n",
    "__try-expect statement__\n",
    "- If program contains suspicious code that may throw the exception, we must place that code in the try block.\n",
    "- try block must be followed with the except statement, which contains a block of code that will be executed if there is some exception in the try block.\n",
    "\n",
    "try:    \n",
    "    - block of code     \n",
    "    \n",
    "except Exception1:    \n",
    "    - block of code    \n",
    "    \n",
    "except Exception2:    \n",
    "    - block of code    "
   ]
  },
  {
   "cell_type": "code",
   "execution_count": 1,
   "metadata": {},
   "outputs": [
    {
     "ename": "NameError",
     "evalue": "name 'x' is not defined",
     "output_type": "error",
     "traceback": [
      "\u001b[1;31m---------------------------------------------------------------------------\u001b[0m",
      "\u001b[1;31mNameError\u001b[0m                                 Traceback (most recent call last)",
      "\u001b[1;32m<ipython-input-1-fc17d851ef81>\u001b[0m in \u001b[0;36m<module>\u001b[1;34m\u001b[0m\n\u001b[1;32m----> 1\u001b[1;33m \u001b[0mprint\u001b[0m\u001b[1;33m(\u001b[0m\u001b[0mx\u001b[0m\u001b[1;33m)\u001b[0m\u001b[1;33m\u001b[0m\u001b[1;33m\u001b[0m\u001b[0m\n\u001b[0m",
      "\u001b[1;31mNameError\u001b[0m: name 'x' is not defined"
     ]
    }
   ],
   "source": [
    "print(x)"
   ]
  },
  {
   "cell_type": "code",
   "execution_count": 2,
   "metadata": {},
   "outputs": [
    {
     "name": "stdout",
     "output_type": "stream",
     "text": [
      "An exception occurred\n"
     ]
    }
   ],
   "source": [
    "try:\n",
    "  print(x)\n",
    "except:\n",
    "  print(\"An exception occurred\")"
   ]
  },
  {
   "cell_type": "markdown",
   "metadata": {},
   "source": [
    "#### Else\n",
    "- You can use the else keyword to define a block of code to be executed if no errors were raised:"
   ]
  },
  {
   "cell_type": "code",
   "execution_count": 3,
   "metadata": {},
   "outputs": [
    {
     "name": "stdout",
     "output_type": "stream",
     "text": [
      "Hello\n",
      "Nothing went wrong\n"
     ]
    }
   ],
   "source": [
    "try:\n",
    "  print(\"Hello\")\n",
    "except:\n",
    "  print(\"Something went wrong\")\n",
    "else:\n",
    "  print(\"Nothing went wrong\")"
   ]
  },
  {
   "cell_type": "markdown",
   "metadata": {},
   "source": [
    "#### Finally\n",
    "- The finally block, if specified, will be executed regardless if the try block raises an error or not."
   ]
  },
  {
   "cell_type": "code",
   "execution_count": 4,
   "metadata": {},
   "outputs": [
    {
     "name": "stdout",
     "output_type": "stream",
     "text": [
      "Something went wrong\n",
      "The 'try except' is finished\n"
     ]
    }
   ],
   "source": [
    "try:\n",
    "  print(x)\n",
    "except:\n",
    "  print(\"Something went wrong\")\n",
    "finally:\n",
    "  print(\"The 'try except' is finished\")"
   ]
  },
  {
   "cell_type": "markdown",
   "metadata": {},
   "source": [
    "------------------------------------------------------------------------------------------------------------------------------"
   ]
  },
  {
   "cell_type": "code",
   "execution_count": 6,
   "metadata": {},
   "outputs": [
    {
     "name": "stdout",
     "output_type": "stream",
     "text": [
      "Second element = 2\n",
      "An error occurred\n"
     ]
    }
   ],
   "source": [
    "a = [1, 2, 3]\n",
    "try: \n",
    "    print (\"Second element = %d\" %(a[1]))\n",
    "  \n",
    "    # Throws error since there are only 3 elements in array\n",
    "    print (\"Fourth element = %d\" %(a[3]))\n",
    "  \n",
    "except IndexError:\n",
    "    print (\"An error occurred\")"
   ]
  },
  {
   "cell_type": "markdown",
   "metadata": {},
   "source": [
    "- A try statement can have more than one except clause, to specify handlers for different exceptions. \n",
    "- Please note that at most one handler will be executed."
   ]
  },
  {
   "cell_type": "code",
   "execution_count": 8,
   "metadata": {},
   "outputs": [
    {
     "name": "stdout",
     "output_type": "stream",
     "text": [
      "\n",
      "Error Occurred and Handled\n"
     ]
    }
   ],
   "source": [
    "# Program to handle multiple errors with one except statement\n",
    "try : \n",
    "    a = 3\n",
    "    if a < 4 :\n",
    "  \n",
    "        # throws ZeroDivisionError for a = 3 \n",
    "        b = a/(a-3)\n",
    "      \n",
    "    # throws NameError if a >= 4\n",
    "    print (\"Value of b = \", b)\n",
    "  \n",
    "# note that braces () are necessary here for multiple exceptions\n",
    "except(ZeroDivisionError, NameError):\n",
    "    print (\"\\nError Occurred and Handled\")"
   ]
  },
  {
   "cell_type": "code",
   "execution_count": 11,
   "metadata": {},
   "outputs": [
    {
     "name": "stdout",
     "output_type": "stream",
     "text": [
      "-5.0\n",
      "a/b result in 0\n"
     ]
    }
   ],
   "source": [
    "# Program to depict else clause with try-except\n",
    "  \n",
    "# Function which returns a/b\n",
    "def AbyB(a , b):\n",
    "    try:\n",
    "        c = ((a+b) / (a-b))\n",
    "    except ZeroDivisionError:\n",
    "        print (\"a/b result in 0\")\n",
    "    else:\n",
    "        print (c)\n",
    "        \n",
    "        \n",
    "# Driver program to test above function\n",
    "AbyB(2.0, 3.0)\n",
    "AbyB(3.0, 3.0)"
   ]
  },
  {
   "cell_type": "markdown",
   "metadata": {},
   "source": [
    "#### Raise an Exception\n",
    "You can choose to throw an exception if a condition occurs.\n",
    "- The raise keyword is used to raise an exception.\n",
    "- You can define what kind of error to raise, and the text to print to the user."
   ]
  },
  {
   "cell_type": "code",
   "execution_count": 20,
   "metadata": {},
   "outputs": [
    {
     "ename": "ValueError",
     "evalue": "Sorry, no numbers below zero",
     "output_type": "error",
     "traceback": [
      "\u001b[1;31m---------------------------------------------------------------------------\u001b[0m",
      "\u001b[1;31mValueError\u001b[0m                                Traceback (most recent call last)",
      "\u001b[1;32m<ipython-input-20-ce3195fd66fa>\u001b[0m in \u001b[0;36m<module>\u001b[1;34m\u001b[0m\n\u001b[0;32m      2\u001b[0m \u001b[1;33m\u001b[0m\u001b[0m\n\u001b[0;32m      3\u001b[0m \u001b[1;32mif\u001b[0m \u001b[0mx\u001b[0m \u001b[1;33m<\u001b[0m \u001b[1;36m0\u001b[0m\u001b[1;33m:\u001b[0m\u001b[1;33m\u001b[0m\u001b[1;33m\u001b[0m\u001b[0m\n\u001b[1;32m----> 4\u001b[1;33m   \u001b[1;32mraise\u001b[0m \u001b[0mValueError\u001b[0m\u001b[1;33m(\u001b[0m\u001b[1;34m\"Sorry, no numbers below zero\"\u001b[0m\u001b[1;33m)\u001b[0m\u001b[1;33m\u001b[0m\u001b[1;33m\u001b[0m\u001b[0m\n\u001b[0m",
      "\u001b[1;31mValueError\u001b[0m: Sorry, no numbers below zero"
     ]
    }
   ],
   "source": [
    "x = -1\n",
    "\n",
    "if x < 0:\n",
    "  raise ValueError(\"Sorry, no numbers below zero\")"
   ]
  },
  {
   "cell_type": "code",
   "execution_count": 14,
   "metadata": {},
   "outputs": [
    {
     "ename": "TypeError",
     "evalue": "Only integers are allowed",
     "output_type": "error",
     "traceback": [
      "\u001b[1;31m---------------------------------------------------------------------------\u001b[0m",
      "\u001b[1;31mTypeError\u001b[0m                                 Traceback (most recent call last)",
      "\u001b[1;32m<ipython-input-14-bc91768a6271>\u001b[0m in \u001b[0;36m<module>\u001b[1;34m\u001b[0m\n\u001b[0;32m      2\u001b[0m \u001b[1;33m\u001b[0m\u001b[0m\n\u001b[0;32m      3\u001b[0m \u001b[1;32mif\u001b[0m \u001b[1;32mnot\u001b[0m \u001b[0mtype\u001b[0m\u001b[1;33m(\u001b[0m\u001b[0mx\u001b[0m\u001b[1;33m)\u001b[0m \u001b[1;32mis\u001b[0m \u001b[0mint\u001b[0m\u001b[1;33m:\u001b[0m\u001b[1;33m\u001b[0m\u001b[1;33m\u001b[0m\u001b[0m\n\u001b[1;32m----> 4\u001b[1;33m   \u001b[1;32mraise\u001b[0m \u001b[0mTypeError\u001b[0m\u001b[1;33m(\u001b[0m\u001b[1;34m\"Only integers are allowed\"\u001b[0m\u001b[1;33m)\u001b[0m\u001b[1;33m\u001b[0m\u001b[1;33m\u001b[0m\u001b[0m\n\u001b[0m",
      "\u001b[1;31mTypeError\u001b[0m: Only integers are allowed"
     ]
    }
   ],
   "source": [
    "x = \"hello\"\n",
    "\n",
    "if not type(x) is int:\n",
    "  raise TypeError(\"Only integers are allowed\")"
   ]
  },
  {
   "cell_type": "code",
   "execution_count": 21,
   "metadata": {},
   "outputs": [
    {
     "name": "stdout",
     "output_type": "stream",
     "text": [
      "Values enered are below zero ones\n"
     ]
    }
   ],
   "source": [
    "x = -1\n",
    "\n",
    "try:\n",
    "    if x < 0:\n",
    "      raise ValueError(\"Sorry, no numbers below zero\")\n",
    "except ValueError:\n",
    "    print (\"Values enered are below zero ones\")"
   ]
  },
  {
   "cell_type": "code",
   "execution_count": 17,
   "metadata": {},
   "outputs": [
    {
     "name": "stdout",
     "output_type": "stream",
     "text": [
      "Type Error Occured - Only int values\n"
     ]
    }
   ],
   "source": [
    "x = \"hello\"\n",
    "\n",
    "try:\n",
    "    if not type(x) is int:\n",
    "      raise TypeError(\"Only integers are allowed\")\n",
    "except TypeError:\n",
    "    print (\"Type Error Occured - Only int values\")"
   ]
  },
  {
   "cell_type": "code",
   "execution_count": 22,
   "metadata": {},
   "outputs": [
    {
     "name": "stdout",
     "output_type": "stream",
     "text": [
      "Enter the age:12\n",
      "The age is not valid\n"
     ]
    }
   ],
   "source": [
    "try:    \n",
    "    age = int(input(\"Enter the age:\"))    \n",
    "    if(age<18):    \n",
    "        raise ValueError   \n",
    "    else:    \n",
    "        print(\"the age is valid\")    \n",
    "except ValueError:    \n",
    "    print(\"The age is not valid\")    "
   ]
  },
  {
   "cell_type": "markdown",
   "metadata": {},
   "source": [
    "#### Custom Exceptions \n",
    "Python allows us to create our exceptions that can be raised from the program and caught using the except clause."
   ]
  },
  {
   "cell_type": "code",
   "execution_count": 23,
   "metadata": {},
   "outputs": [
    {
     "name": "stdout",
     "output_type": "stream",
     "text": [
      "Received error: 2000\n"
     ]
    }
   ],
   "source": [
    "class ErrorInCode(Exception):      \n",
    "    def __init__(self, data):      \n",
    "        self.data = data      \n",
    "    def __str__(self):      \n",
    "        return repr(self.data)      \n",
    "      \n",
    "try:      \n",
    "    raise ErrorInCode(2000)      \n",
    "except ErrorInCode as ae:      \n",
    "    print(\"Received error:\", ae.data)  "
   ]
  }
 ],
 "metadata": {
  "kernelspec": {
   "display_name": "Python 3",
   "language": "python",
   "name": "python3"
  },
  "language_info": {
   "codemirror_mode": {
    "name": "ipython",
    "version": 3
   },
   "file_extension": ".py",
   "mimetype": "text/x-python",
   "name": "python",
   "nbconvert_exporter": "python",
   "pygments_lexer": "ipython3",
   "version": "3.8.5"
  }
 },
 "nbformat": 4,
 "nbformat_minor": 4
}
