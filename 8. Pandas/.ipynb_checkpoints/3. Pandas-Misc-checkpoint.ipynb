{
 "cells": [
  {
   "cell_type": "markdown",
   "metadata": {},
   "source": [
    "In this File:\n",
    "- Reading JSON\n",
    "- Handling Text Data 'str' methods\n",
    "- Handling Missing Data\n"
   ]
  },
  {
   "cell_type": "markdown",
   "metadata": {},
   "source": [
    "#### Reading JSON"
   ]
  },
  {
   "cell_type": "code",
   "execution_count": 2,
   "metadata": {},
   "outputs": [
    {
     "name": "stdout",
     "output_type": "stream",
     "text": [
      "     Duration  Pulse  Maxpulse  Calories\n",
      "0          60    110       130     409.1\n",
      "1          60    117       145     479.0\n",
      "2          60    103       135     340.0\n",
      "3          45    109       175     282.4\n",
      "4          45    117       148     406.0\n",
      "5          60    102       127     300.5\n",
      "6          60    110       136     374.0\n",
      "7          45    104       134     253.3\n",
      "8          30    109       133     195.1\n",
      "9          60     98       124     269.0\n",
      "10         60    103       147     329.3\n",
      "11         60    100       120     250.7\n",
      "12         60    106       128     345.3\n",
      "13         60    104       132     379.3\n",
      "14         60     98       123     275.0\n",
      "15         60     98       120     215.2\n",
      "16         60    100       120     300.0\n",
      "17         45     90       112       NaN\n",
      "18         60    103       123     323.0\n",
      "19         45     97       125     243.0\n",
      "20         60    108       131     364.2\n",
      "21         45    100       119     282.0\n",
      "22         60    130       101     300.0\n",
      "23         45    105       132     246.0\n",
      "24         60    102       126     334.5\n",
      "25         60    100       120     250.0\n",
      "26         60     92       118     241.0\n",
      "27         60    103       132       NaN\n",
      "28         60    100       132     280.0\n",
      "29         60    102       129     380.3\n",
      "30         60     92       115     243.0\n",
      "31         45     90       112     180.1\n",
      "32         60    101       124     299.0\n",
      "33         60     93       113     223.0\n",
      "34         60    107       136     361.0\n",
      "35         60    114       140     415.0\n",
      "36         60    102       127     300.5\n",
      "37         60    100       120     300.1\n",
      "38         60    100       120     300.0\n",
      "39         45    104       129     266.0\n",
      "40         45     90       112     180.1\n",
      "41         60     98       126     286.0\n",
      "42         60    100       122     329.4\n",
      "43         60    111       138     400.0\n",
      "44         60    111       131     397.0\n",
      "45         60     99       119     273.0\n",
      "46         60    109       153     387.6\n",
      "47         45    111       136     300.0\n",
      "48         45    108       129     298.0\n",
      "49         60    111       139     397.6\n",
      "50         60    107       136     380.2\n",
      "51         80    123       146     643.1\n",
      "52         60    106       130     263.0\n",
      "53         60    118       151     486.0\n",
      "54         30    136       175     238.0\n",
      "55         60    121       146     450.7\n",
      "56         60    118       121     413.0\n",
      "57         45    115       144     305.0\n",
      "58         20    153       172     226.4\n",
      "59         45    123       152     321.0\n",
      "60        210    108       160    1376.0\n",
      "61        160    110       137    1034.4\n",
      "62        160    109       135     853.0\n",
      "63         45    118       141     341.0\n",
      "64         20    110       130     131.4\n",
      "65        180     90       130     800.4\n",
      "66        150    105       135     873.4\n",
      "67        150    107       130     816.0\n",
      "68         20    106       136     110.4\n",
      "69        300    108       143    1500.2\n",
      "70        150     97       129    1115.0\n",
      "71         60    109       153     387.6\n",
      "72         90    100       127     700.0\n",
      "73        150     97       127     953.2\n",
      "74         45    114       146     304.0\n",
      "75         90     98       125     563.2\n",
      "76         45    105       134     251.0\n",
      "77         45    110       141     300.0\n",
      "78        120    100       130     500.4\n",
      "79        270    100       131    1729.0\n",
      "80         30    159       182     319.2\n",
      "81         45    149       169     344.0\n",
      "82         30    103       139     151.1\n",
      "83        120    100       130     500.0\n",
      "84         45    100       120     225.3\n",
      "85         30    151       170     300.1\n",
      "86         45    102       136     234.0\n",
      "87        120    100       157    1000.1\n",
      "88         45    129       103     242.0\n",
      "89         20     83       107      50.3\n",
      "90        180    101       127     600.1\n",
      "91         45    107       137       NaN\n",
      "92         30     90       107     105.3\n",
      "93         15     80       100      50.5\n",
      "94         20    150       171     127.4\n",
      "95         20    151       168     229.4\n",
      "96         30     95       128     128.2\n",
      "97         25    152       168     244.2\n",
      "98         30    109       131     188.2\n",
      "99         90     93       124     604.1\n",
      "100        20     95       112      77.7\n",
      "101        90     90       110     500.0\n",
      "102        90     90       100     500.0\n",
      "103        90     90       100     500.4\n",
      "104        30     92       108      92.7\n",
      "105        30     93       128     124.0\n",
      "106       180     90       120     800.3\n",
      "107        30     90       120      86.2\n",
      "108        90     90       120     500.3\n",
      "109       210    137       184    1860.4\n",
      "110        60    102       124     325.2\n",
      "111        45    107       124     275.0\n",
      "112        15    124       139     124.2\n",
      "113        45    100       120     225.3\n",
      "114        60    108       131     367.6\n",
      "115        60    108       151     351.7\n",
      "116        60    116       141     443.0\n",
      "117        60     97       122     277.4\n",
      "118        60    105       125       NaN\n",
      "119        60    103       124     332.7\n",
      "120        30    112       137     193.9\n",
      "121        45    100       120     100.7\n",
      "122        60    119       169     336.7\n",
      "123        60    107       127     344.9\n",
      "124        60    111       151     368.5\n",
      "125        60     98       122     271.0\n",
      "126        60     97       124     275.3\n",
      "127        60    109       127     382.0\n",
      "128        90     99       125     466.4\n",
      "129        60    114       151     384.0\n",
      "130        60    104       134     342.5\n",
      "131        60    107       138     357.5\n",
      "132        60    103       133     335.0\n",
      "133        60    106       132     327.5\n",
      "134        60    103       136     339.0\n",
      "135        20    136       156     189.0\n",
      "136        45    117       143     317.7\n",
      "137        45    115       137     318.0\n",
      "138        45    113       138     308.0\n",
      "139        20    141       162     222.4\n",
      "140        60    108       135     390.0\n",
      "141        60     97       127       NaN\n",
      "142        45    100       120     250.4\n",
      "143        45    122       149     335.4\n",
      "144        60    136       170     470.2\n",
      "145        45    106       126     270.8\n",
      "146        60    107       136     400.0\n",
      "147        60    112       146     361.9\n",
      "148        30    103       127     185.0\n",
      "149        60    110       150     409.4\n",
      "150        60    106       134     343.0\n",
      "151        60    109       129     353.2\n",
      "152        60    109       138     374.0\n",
      "153        30    150       167     275.8\n",
      "154        60    105       128     328.0\n",
      "155        60    111       151     368.5\n",
      "156        60     97       131     270.4\n",
      "157        60    100       120     270.4\n",
      "158        60    114       150     382.8\n",
      "159        30     80       120     240.9\n",
      "160        30     85       120     250.4\n",
      "161        45     90       130     260.4\n",
      "162        45     95       130     270.0\n",
      "163        45    100       140     280.9\n",
      "164        60    105       140     290.8\n",
      "165        60    110       145     300.4\n",
      "166        60    115       145     310.2\n",
      "167        75    120       150     320.4\n",
      "168        75    125       150     330.4\n"
     ]
    }
   ],
   "source": [
    "import pandas as pd\n",
    "\n",
    "df = pd.read_json('data.json')\n",
    "print (df.to_string())"
   ]
  },
  {
   "cell_type": "markdown",
   "metadata": {},
   "source": [
    "-------------------------------------------------------------------------------------------------------------------------------\n",
    "#### Working with Text values:\n",
    "  - Lowercasing and Uppercasing\n",
    "  - Splitting and Replacing\n",
    "  - Concatenating\n",
    "  - Other Pandas str() methods"
   ]
  },
  {
   "cell_type": "code",
   "execution_count": 3,
   "metadata": {},
   "outputs": [
    {
     "name": "stdout",
     "output_type": "stream",
     "text": [
      "     Name  Age    Address Qualification\n",
      "0     jai   27      Delhi           Msc\n",
      "1  princi   24     Kanpur            MA\n",
      "2  gaurav   22  Allahabad           MCA\n",
      "3    anuj   32    Kannauj           Phd\n"
     ]
    }
   ],
   "source": [
    "data = {'Name':['Jai', 'Princi', 'Gaurav', 'Anuj'], \n",
    "        'Age':[27, 24, 22, 32], \n",
    "        'Address':['Delhi', 'Kanpur', 'Allahabad', 'Kannauj'], \n",
    "        'Qualification':['Msc', 'MA', 'MCA', 'Phd']} \n",
    "   \n",
    "\n",
    "df = pd.DataFrame(data) \n",
    "   \n",
    "df[\"Name\"]= df[\"Name\"].str.lower()  # converting and overwriting values in column \n",
    " \n",
    "print(df)"
   ]
  },
  {
   "cell_type": "code",
   "execution_count": 5,
   "metadata": {},
   "outputs": [
    {
     "name": "stdout",
     "output_type": "stream",
     "text": [
      "     Name  Age    Address Qualification\n",
      "0     JAI   27      Delhi           Msc\n",
      "1  PRINCI   24     Kanpur            MA\n",
      "2  GAURAV   22  Allahabad           MCA\n",
      "3    ANUJ   32    Kannauj           Phd\n"
     ]
    }
   ],
   "source": [
    "df[\"Name\"]= df[\"Name\"].str.upper() \n",
    "print(df)"
   ]
  },
  {
   "cell_type": "code",
   "execution_count": 17,
   "metadata": {},
   "outputs": [
    {
     "name": "stdout",
     "output_type": "stream",
     "text": [
      "     Name  Age Address Qualification\n",
      "0     Jai   27       N           Msc\n",
      "1  Princi   24       K            MA\n",
      "2  Gaurav   22     All           MCA\n",
      "3    Anuj   32    Knnu           Phd\n"
     ]
    }
   ],
   "source": [
    "#Split\n",
    "data = {'Name':['Jai', 'Princi', 'Gaurav', 'Anuj'], \n",
    "        'Age':[27, 24, 22, 32], \n",
    "        'Address':['Nagpur', 'Kanpur', 'Allahabad', 'Knnuaj'], \n",
    "        'Qualification':['Msc', 'MA', 'MCA', 'Phd']} \n",
    "\n",
    "df = pd.DataFrame(data) \n",
    "df.dropna(inplace = True) # dropping null value columns to avoid errors \n",
    "df[\"Address\"]= df[\"Address\"].str.split(\"a\", expand = True)\n",
    "print(df)"
   ]
  },
  {
   "cell_type": "code",
   "execution_count": 29,
   "metadata": {},
   "outputs": [
    {
     "name": "stdout",
     "output_type": "stream",
     "text": [
      "     Name           Age    Address Qualification\n",
      "0     Jai  Twenty Seven     Nagpur           Msc\n",
      "1  Princi            24     Kanpur            MA\n",
      "2  Gaurav            22  Allahabad           MCA\n",
      "3    Anuj            32     Knnuaj           Phd\n"
     ]
    }
   ],
   "source": [
    "#Replace\n",
    "df = pd.DataFrame(data)\n",
    "df[\"Age\"]=df[\"Age\"].replace(27,\"Twenty Seven\")\n",
    "print(df)"
   ]
  },
  {
   "cell_type": "code",
   "execution_count": 30,
   "metadata": {},
   "outputs": [
    {
     "name": "stdout",
     "output_type": "stream",
     "text": [
      "                Name  Age    Address Qualification\n",
      "0        Jai, Nagpur   27     Nagpur           Msc\n",
      "1     Princi, Kanpur   24     Kanpur            MA\n",
      "2  Gaurav, Allahabad   22  Allahabad           MCA\n",
      "3       Anuj, Knnuaj   32     Knnuaj           Phd\n"
     ]
    }
   ],
   "source": [
    "# Concat\n",
    "df = pd.DataFrame(data)\n",
    "new = df[\"Address\"].copy()\n",
    "df[\"Name\"]= df[\"Name\"].str.cat(new, sep =\", \") \n",
    "print(df)"
   ]
  },
  {
   "cell_type": "code",
   "execution_count": 37,
   "metadata": {},
   "outputs": [
    {
     "name": "stdout",
     "output_type": "stream",
     "text": [
      "          State  Score\n",
      "0   Arizona AZ      62\n",
      "1   Georgia GG      47\n",
      "2    Newyork NY     55\n",
      "3   Indiana IN      74\n",
      "4   Florida FL      31\n"
     ]
    }
   ],
   "source": [
    "# Removing White Spaces\n",
    "# We use str.strip(), str.rstrip(), str.lstrip()\n",
    "\n",
    "df1 = {\n",
    "    'State':[' Arizona AZ ',' Georgia GG ', ' Newyork NY','Indiana IN ','Florida FL '],\n",
    "   'Score':[62,47,55,74,31]}\n",
    "\n",
    "df1 = pd.DataFrame(df1,columns=['State','Score'])\n",
    "print(df1)"
   ]
  },
  {
   "cell_type": "code",
   "execution_count": 35,
   "metadata": {},
   "outputs": [
    {
     "name": "stdout",
     "output_type": "stream",
     "text": [
      "        State  Score\n",
      "0  Arizona AZ     62\n",
      "1  Georgia GG     47\n",
      "2  Newyork NY     55\n",
      "3  Indiana IN     74\n",
      "4  Florida FL     31\n"
     ]
    }
   ],
   "source": [
    "#strip()\n",
    "df1['State'] = df1['State'].str.strip()\n",
    "print (df1)"
   ]
  },
  {
   "cell_type": "code",
   "execution_count": 38,
   "metadata": {},
   "outputs": [
    {
     "name": "stdout",
     "output_type": "stream",
     "text": [
      "         State  Score\n",
      "0  Arizona AZ      62\n",
      "1  Georgia GG      47\n",
      "2   Newyork NY     55\n",
      "3  Indiana IN      74\n",
      "4  Florida FL      31\n"
     ]
    }
   ],
   "source": [
    "#df1['State'] = df1['State'].str.lstrip()\n",
    "df1['State'] = df1['State'].str.rstrip()\n",
    "\n",
    "print (df1)"
   ]
  },
  {
   "cell_type": "markdown",
   "metadata": {},
   "source": [
    "https://pandas.pydata.org/pandas-docs/stable/reference/api/pandas.Series.str.lstrip.html\n",
    "\n",
    "-------------------------------------------------------------------------------------------------------------------------------"
   ]
  },
  {
   "cell_type": "markdown",
   "metadata": {},
   "source": [
    "#### Handling Missing Data\n",
    "\n",
    "Pandas provides some methods specific to missing data. To select NaN entries you can use pd.isnull() (or its companion pd.notnull())\n",
    "\n",
    "- Replace NaN with a Scalar Value\n",
    "- Fill NA Forward and Backward\n",
    "- Drop Missing Values"
   ]
  },
  {
   "cell_type": "code",
   "execution_count": 42,
   "metadata": {},
   "outputs": [
    {
     "name": "stdout",
     "output_type": "stream",
     "text": [
      "        one       two     three\n",
      "a -0.793589 -1.931372  0.787836\n",
      "b       NaN       NaN       NaN\n",
      "c  1.773147 -1.536140  1.198220\n",
      "d       NaN       NaN       NaN\n",
      "e  0.194884  1.581445 -0.086927\n",
      "f  0.823543 -0.437545 -0.472786\n",
      "g       NaN       NaN       NaN\n",
      "h  0.648061  0.834372  0.337886\n"
     ]
    }
   ],
   "source": [
    "import pandas as pd\n",
    "import numpy as np\n",
    "\n",
    "df = pd.DataFrame(np.random.randn(5, 3), index=['a', 'c', 'e', 'f','h'],columns=['one', 'two', 'three'])\n",
    "\n",
    "df = df.reindex(['a', 'b', 'c', 'd', 'e', 'f', 'g', 'h'])\n",
    "\n",
    "print (df)"
   ]
  },
  {
   "cell_type": "markdown",
   "metadata": {},
   "source": [
    "- NaN means Not a Number.\n",
    "- Check for Missing Values:\n",
    "    -  isnull() and notnull() functions, which are also methods on Series and DataFrame objects"
   ]
  },
  {
   "cell_type": "code",
   "execution_count": 44,
   "metadata": {},
   "outputs": [
    {
     "name": "stdout",
     "output_type": "stream",
     "text": [
      "a    False\n",
      "b     True\n",
      "c    False\n",
      "d     True\n",
      "e    False\n",
      "f    False\n",
      "g     True\n",
      "h    False\n",
      "Name: one, dtype: bool\n"
     ]
    }
   ],
   "source": [
    "print (df['one'].isnull())"
   ]
  },
  {
   "cell_type": "code",
   "execution_count": 45,
   "metadata": {},
   "outputs": [
    {
     "name": "stdout",
     "output_type": "stream",
     "text": [
      "a     True\n",
      "b    False\n",
      "c     True\n",
      "d    False\n",
      "e     True\n",
      "f     True\n",
      "g    False\n",
      "h     True\n",
      "Name: one, dtype: bool\n"
     ]
    }
   ],
   "source": [
    "print (df['one'].notnull())"
   ]
  },
  {
   "cell_type": "code",
   "execution_count": 48,
   "metadata": {},
   "outputs": [
    {
     "name": "stdout",
     "output_type": "stream",
     "text": [
      "        one       two     three\n",
      "a -0.793589 -1.931372  0.787836\n",
      "b       NaN       NaN       NaN\n",
      "c  1.773147 -1.536140  1.198220\n",
      "d       NaN       NaN       NaN\n",
      "e  0.194884  1.581445 -0.086927\n",
      "f  0.823543 -0.437545 -0.472786\n",
      "g       NaN       NaN       NaN\n",
      "h  0.648061  0.834372  0.337886\n",
      "\n",
      "\n",
      "NaN replaced with '0':\n",
      "        one       two     three\n",
      "a -0.793589 -1.931372  0.787836\n",
      "b  0.000000  0.000000  0.000000\n",
      "c  1.773147 -1.536140  1.198220\n",
      "d  0.000000  0.000000  0.000000\n",
      "e  0.194884  1.581445 -0.086927\n",
      "f  0.823543 -0.437545 -0.472786\n",
      "g  0.000000  0.000000  0.000000\n",
      "h  0.648061  0.834372  0.337886\n"
     ]
    }
   ],
   "source": [
    "# 1. Replace NaN with Scalar Value \"fillna()\"\n",
    "\n",
    "print (df)\n",
    "print (\"\\n\")\n",
    "print (\"NaN replaced with '0':\")\n",
    "print (df.fillna(0))"
   ]
  },
  {
   "cell_type": "code",
   "execution_count": 49,
   "metadata": {},
   "outputs": [
    {
     "name": "stdout",
     "output_type": "stream",
     "text": [
      "Fill Forward\n",
      "        one       two     three\n",
      "a -0.793589 -1.931372  0.787836\n",
      "b -0.793589 -1.931372  0.787836\n",
      "c  1.773147 -1.536140  1.198220\n",
      "d  1.773147 -1.536140  1.198220\n",
      "e  0.194884  1.581445 -0.086927\n",
      "f  0.823543 -0.437545 -0.472786\n",
      "g  0.823543 -0.437545 -0.472786\n",
      "h  0.648061  0.834372  0.337886\n",
      "\n",
      "\n",
      "Fill Backward\n",
      "        one       two     three\n",
      "a -0.793589 -1.931372  0.787836\n",
      "b  1.773147 -1.536140  1.198220\n",
      "c  1.773147 -1.536140  1.198220\n",
      "d  0.194884  1.581445 -0.086927\n",
      "e  0.194884  1.581445 -0.086927\n",
      "f  0.823543 -0.437545 -0.472786\n",
      "g  0.648061  0.834372  0.337886\n",
      "h  0.648061  0.834372  0.337886\n"
     ]
    }
   ],
   "source": [
    "#2. FillNA Backward/Forward\n",
    "\n",
    "# pad/fill - Fill methods Forward\n",
    "# bfill/backfill - Fill methods Backward\n",
    "\n",
    "print (\"Fill Forward\")\n",
    "print (df.fillna(method='pad'))\n",
    "print (\"\\n\")\n",
    "print (\"Fill Backward\")\n",
    "print (df.fillna(method='backfill'))"
   ]
  },
  {
   "cell_type": "code",
   "execution_count": 50,
   "metadata": {},
   "outputs": [
    {
     "name": "stdout",
     "output_type": "stream",
     "text": [
      "        one       two     three\n",
      "a -0.793589 -1.931372  0.787836\n",
      "c  1.773147 -1.536140  1.198220\n",
      "e  0.194884  1.581445 -0.086927\n",
      "f  0.823543 -0.437545 -0.472786\n",
      "h  0.648061  0.834372  0.337886\n"
     ]
    }
   ],
   "source": [
    "#3. Drop Missing Values\n",
    "\n",
    "print (df.dropna())"
   ]
  },
  {
   "cell_type": "code",
   "execution_count": 51,
   "metadata": {},
   "outputs": [
    {
     "name": "stdout",
     "output_type": "stream",
     "text": [
      "   one  two\n",
      "0   10   10\n",
      "1   20    0\n",
      "2   30   30\n",
      "3   40   40\n",
      "4   50   50\n",
      "5   60   60\n"
     ]
    }
   ],
   "source": [
    "#4. Replace generic values - we have to replace a generic value with some specific value. We can achieve this by applying the \"replace\" method.\n",
    "\n",
    "df = pd.DataFrame({'one':[10,20,30,40,50,2000], 'two':[1000,0,30,40,50,60]})\n",
    "\n",
    "print (df.replace({1000:10,2000:60}))"
   ]
  }
 ],
 "metadata": {
  "kernelspec": {
   "display_name": "Python 3",
   "language": "python",
   "name": "python3"
  },
  "language_info": {
   "codemirror_mode": {
    "name": "ipython",
    "version": 3
   },
   "file_extension": ".py",
   "mimetype": "text/x-python",
   "name": "python",
   "nbconvert_exporter": "python",
   "pygments_lexer": "ipython3",
   "version": "3.8.5"
  }
 },
 "nbformat": 4,
 "nbformat_minor": 4
}
