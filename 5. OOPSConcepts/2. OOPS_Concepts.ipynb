{
 "cells": [
  {
   "cell_type": "markdown",
   "metadata": {},
   "source": [
    "Topics:\n",
    "- Inheritance\n",
    "    - Changing _init_\n",
    "    - Multiple\n",
    "    - Multi-Level\n",
    "\n",
    "- Encapsulation\n",
    "    - Data Abstraction\n",
    "- Abstraction\n",
    "\n",
    "\n",
    "\n",
    "#### Inheritance:\n",
    "- The child class acquires the properties and can access all the data members and functions defined in the parent class. \n",
    "- A child class can also provide its specific implementation to the functions of the parent class.\n",
    "\n",
    "class derived-class(base class):  \n",
    "    <class-suite> \n",
    "     "
   ]
  },
  {
   "cell_type": "code",
   "execution_count": 2,
   "metadata": {},
   "outputs": [],
   "source": [
    "class Car:          #parent class\n",
    "\n",
    "    def __init__(self, name, mileage):\n",
    "        self.name = name \n",
    "        self.mileage = mileage \n",
    "\n",
    "    def description(self):                \n",
    "        return f\"The {self.name} car gives the mileage of {self.mileage}km/l\"\n",
    "\n",
    "#------------------------------------------------------------------------------------------------------------------------\n",
    "\n",
    "class BMW(Car):     #child class\n",
    "    pass\n",
    "\n",
    "class Audi(Car):     #child class\n",
    "    def audi_desc(self):\n",
    "        return \"This is the description method of class Audi.\""
   ]
  },
  {
   "cell_type": "code",
   "execution_count": 4,
   "metadata": {},
   "outputs": [
    {
     "name": "stdout",
     "output_type": "stream",
     "text": [
      "The BMW 7-series car gives the mileage of 39.53km/l\n",
      "-----------------\n",
      "The Audi A8 L car gives the mileage of 14km/l\n",
      "This is the description method of class Audi.\n"
     ]
    }
   ],
   "source": [
    "obj1 = BMW(\"BMW 7-series\",39.53)\n",
    "print(obj1.description())\n",
    "print(\"-----------------\")\n",
    "\n",
    "\n",
    "obj2 = Audi(\"Audi A8 L\",14)\n",
    "print(obj2.description())\n",
    "print(obj2.audi_desc())"
   ]
  },
  {
   "cell_type": "markdown",
   "metadata": {},
   "source": [
    "- Notice how the instance method description() of the parent class is accessible by the objects of child classes with the help of obj1.description() and obj2.description(). And also the separate method of class Audi is also accessible using obj2.audi_desc().\n",
    "\n",
    "-------------------------------------------------------------------------------------------------------------------------------"
   ]
  },
  {
   "cell_type": "code",
   "execution_count": 3,
   "metadata": {},
   "outputs": [
    {
     "name": "stdout",
     "output_type": "stream",
     "text": [
      "AB De\n"
     ]
    }
   ],
   "source": [
    "class Person:\n",
    "  def __init__(self, fname, lname):\n",
    "    self.firstname = fname\n",
    "    self.lastname = lname\n",
    "\n",
    "  def printname(self):\n",
    "    print(self.firstname, self.lastname)\n",
    "\n",
    "#Use the Person class to create an object, and then execute the printname method:\n",
    "\n",
    "x = Person(\"AB\", \"De\")\n",
    "x.printname()"
   ]
  },
  {
   "cell_type": "markdown",
   "metadata": {},
   "source": [
    "- When you add the __init__() function, the child class will no longer inherit the parent's __init__() function.\n",
    "- The child's __init__() function overrides the inheritance of the parent's __init__() function.\n",
    "- To keep the inheritance of the parent's __init__() function, add a call to the parent's __init__() function or\n",
    "- Use super() function that will make the child class inherit all the methods and properties from its parent."
   ]
  },
  {
   "cell_type": "code",
   "execution_count": 4,
   "metadata": {},
   "outputs": [],
   "source": [
    "class Student(Person):\n",
    " def __init__(self, fname, lname, year):\n",
    "    super().__init__(fname, lname)\n",
    "    self.joinyear = year\n",
    "\n",
    " def welcome(self):\n",
    "    print(\"Welcome\", self.firstname, self.lastname, \"to SA team of\", self.joinyear)"
   ]
  },
  {
   "cell_type": "code",
   "execution_count": 6,
   "metadata": {},
   "outputs": [
    {
     "name": "stdout",
     "output_type": "stream",
     "text": [
      "Welcome AB De to SA team of 2021\n",
      "V K\n"
     ]
    }
   ],
   "source": [
    "x = Student(\"AB\", \"De\", 2021)\n",
    "x.welcome()\n",
    "\n",
    "#sub class using super class method\n",
    "x = Student(\"V\",\"K\",2021)\n",
    "x.printname()"
   ]
  },
  {
   "cell_type": "markdown",
   "metadata": {},
   "source": [
    "------------------------------------------------------------------------------------------------------------------------------\n",
    "\n",
    "#### Multiple Inhertiance\n",
    "- __Inherit multiple classes__\n",
    "- class derive-class(<base class 1>, <base class 2>, ..... <base class n>):  \n",
    "    <class - suite> "
   ]
  },
  {
   "cell_type": "code",
   "execution_count": 1,
   "metadata": {},
   "outputs": [
    {
     "name": "stdout",
     "output_type": "stream",
     "text": [
      "30\n",
      "200\n",
      "0.5\n"
     ]
    }
   ],
   "source": [
    "class Calculation1:  \n",
    "    def Summation(self,a,b):  \n",
    "        return a+b;  \n",
    "#--------------------------------------------------------------------------\n",
    "    \n",
    "class Calculation2:  \n",
    "    def Multiplication(self,a,b):  \n",
    "        return a*b; \n",
    "#--------------------------------------------------------------------------\n",
    "\n",
    "class Derived(Calculation1,Calculation2):  \n",
    "    def Divide(self,a,b):  \n",
    "        return a/b;  \n",
    "d = Derived()  \n",
    "\n",
    "print(d.Summation(10,20))  \n",
    "print(d.Multiplication(10,20))  \n",
    "print(d.Divide(10,20))  "
   ]
  },
  {
   "cell_type": "markdown",
   "metadata": {},
   "source": [
    "##### - issubclass(sub,sup) method\n",
    "-  issubclass(sub, sup) method is used to check the relationships between the specified classes. \n",
    "- It returns true if the first class is the subclass of the second class, and false otherwise."
   ]
  },
  {
   "cell_type": "code",
   "execution_count": 7,
   "metadata": {},
   "outputs": [
    {
     "name": "stdout",
     "output_type": "stream",
     "text": [
      "True\n",
      "False\n"
     ]
    }
   ],
   "source": [
    "class Calculation1:  \n",
    "    def Summation(self,a,b):  \n",
    "        return a+b;  \n",
    "#-------------------------------------------------------------------\n",
    "\n",
    "class Calculation2:  \n",
    "    def Multiplication(self,a,b):  \n",
    "        return a*b;  \n",
    "#-------------------------------------------------------------------\n",
    "\n",
    "class Derived(Calculation1,Calculation2):  \n",
    "    def Divide(self,a,b):  \n",
    "        return a/b;\n",
    "    \n",
    "d = Derived()  \n",
    "print(issubclass(Derived,Calculation2))  \n",
    "print(issubclass(Calculation1,Calculation2))  "
   ]
  },
  {
   "cell_type": "markdown",
   "metadata": {},
   "source": [
    "-------------------------------------------------------------------------------------------------------------------------------\n",
    "\n",
    "#### Multi-Level Inheritance\n",
    "- when a derived class inherits another derived class. \n",
    "- There is no limit on the number of levels up to which, the multi-level inheritance is archived in python."
   ]
  },
  {
   "cell_type": "code",
   "execution_count": 8,
   "metadata": {},
   "outputs": [
    {
     "name": "stdout",
     "output_type": "stream",
     "text": [
      "Can Run\n",
      "Can Speak\n",
      "Can Walk\n"
     ]
    }
   ],
   "source": [
    "class GrandFather:  \n",
    "    def speak(self):  \n",
    "        print(\"Can Speak\")  \n",
    "        \n",
    "#The child class Father inherits the base class GrandFather  \n",
    "class Father(GrandFather):  \n",
    "    def walk(self):  \n",
    "        print(\"Can Walk\")  \n",
    "        \n",
    "#The child class Child inherits another child class Father  \n",
    "class Child(Father):  \n",
    "    def run(self):  \n",
    "        print(\"Can Run\")  \n",
    "        \n",
    "d = Child()  \n",
    "d.run()  \n",
    "d.speak()  \n",
    "d.walk()  "
   ]
  },
  {
   "cell_type": "markdown",
   "metadata": {},
   "source": [
    "-------------------------------------------------------------------------------------------------------------------------------\n",
    "-------------------------------------------------------------------------------------------------------------------------------"
   ]
  },
  {
   "cell_type": "markdown",
   "metadata": {},
   "source": [
    "- Encapsulation: — Information hiding.\n",
    "- Abstraction: — Implementation hiding\n",
    "\n",
    "#### Encapsulation\n",
    "It describes the idea of wrapping data and the methods that work on data within one unit.\n",
    "\n",
    "- This puts restrictions on accessing variables and methods directly and can prevent the accidental modification of data.\n",
    "\n",
    "\n",
    "- __Protected Members:__\n",
    "    - members of the class that cannot be accessed outside the class but can be accessed from within the class and its subclasses.\n",
    "    - By prefixing the name of your member with a single underscore, you’re telling others “don’t touch this, unless you’re a subclass”.\n",
    "       "
   ]
  },
  {
   "cell_type": "code",
   "execution_count": 32,
   "metadata": {},
   "outputs": [
    {
     "name": "stdout",
     "output_type": "stream",
     "text": [
      "23456\n",
      "Calling protected member of base class:23456\n",
      "12345\n",
      "Calling protected member of base class:23456\n",
      "678910\n",
      "Calling protected member of base class:23456\n"
     ]
    }
   ],
   "source": [
    "## Example for Protected:\n",
    "\n",
    "# Creating a base class\n",
    "class Engine:\n",
    "    def __init__(self):\n",
    "         \n",
    "        self._ChasisNumber = 23456 # Protected member\n",
    " \n",
    "# Creating a derived class   \n",
    "class Car(Engine):\n",
    "    def __init__(self):\n",
    "       \n",
    "        # Calling constructor of Base class\n",
    "        Engine.__init__(self)\n",
    "        print(\"Calling protected member of base class:{0}\".format(self._ChasisNumber) )\n",
    "         \n",
    "\n",
    "obj1 = Engine() \n",
    "print(obj1._ChasisNumber)\n",
    "obj2 = Car()\n",
    "\n",
    "\n",
    "obj1._ChasisNumber = 12345\n",
    "print(obj1._ChasisNumber)\n",
    "obj2 = Car()\n",
    "\n",
    "obj1._ChasisNumber = 678910\n",
    "print(obj1._ChasisNumber)\n",
    "obj2 = Car()\n",
    "\n",
    "\n"
   ]
  },
  {
   "cell_type": "markdown",
   "metadata": {},
   "source": [
    "- __Private Members:__\n",
    "    - To prevent accidental change, an object’s variable can only be changed by an object’s method. \n",
    "    - Add “_” (double underscore ) in front of the variable and function name can hide them when accessing them from out of class."
   ]
  },
  {
   "cell_type": "code",
   "execution_count": 1,
   "metadata": {},
   "outputs": [
    {
     "name": "stdout",
     "output_type": "stream",
     "text": [
      "Yugesh\n",
      "Yugesh Yerraguntla\n"
     ]
    },
    {
     "ename": "AttributeError",
     "evalue": "'Person' object has no attribute '__lastname'",
     "output_type": "error",
     "traceback": [
      "\u001b[1;31m---------------------------------------------------------------------------\u001b[0m",
      "\u001b[1;31mAttributeError\u001b[0m                            Traceback (most recent call last)",
      "\u001b[1;32m<ipython-input-1-12236e63f78d>\u001b[0m in \u001b[0;36m<module>\u001b[1;34m\u001b[0m\n\u001b[0;32m     11\u001b[0m \u001b[0mprint\u001b[0m\u001b[1;33m(\u001b[0m\u001b[0mP\u001b[0m\u001b[1;33m.\u001b[0m\u001b[0mname\u001b[0m\u001b[1;33m)\u001b[0m\u001b[1;33m\u001b[0m\u001b[1;33m\u001b[0m\u001b[0m\n\u001b[0;32m     12\u001b[0m \u001b[0mprint\u001b[0m\u001b[1;33m(\u001b[0m\u001b[0mP\u001b[0m\u001b[1;33m.\u001b[0m\u001b[0mPrintName\u001b[0m\u001b[1;33m(\u001b[0m\u001b[1;33m)\u001b[0m\u001b[1;33m)\u001b[0m\u001b[1;33m\u001b[0m\u001b[1;33m\u001b[0m\u001b[0m\n\u001b[1;32m---> 13\u001b[1;33m \u001b[0mprint\u001b[0m\u001b[1;33m(\u001b[0m\u001b[0mP\u001b[0m\u001b[1;33m.\u001b[0m\u001b[0m__lastname\u001b[0m\u001b[1;33m)\u001b[0m\u001b[1;33m\u001b[0m\u001b[1;33m\u001b[0m\u001b[0m\n\u001b[0m",
      "\u001b[1;31mAttributeError\u001b[0m: 'Person' object has no attribute '__lastname'"
     ]
    }
   ],
   "source": [
    "class Person:\n",
    "  def __init__(self): \n",
    "    self.name = 'Yugesh'\n",
    "    self.__lastname = 'Yerraguntla'\n",
    "    \n",
    "  def PrintName(self):\n",
    "    return self.name +' ' + self.__lastname\n",
    "    \n",
    "#Outside class    \n",
    "P = Person()\n",
    "print(P.name)\n",
    "print(P.PrintName())\n",
    "print(P.__lastname)"
   ]
  },
  {
   "cell_type": "code",
   "execution_count": 2,
   "metadata": {},
   "outputs": [
    {
     "name": "stdout",
     "output_type": "stream",
     "text": [
      "you can see me\n"
     ]
    },
    {
     "ename": "AttributeError",
     "evalue": "'SeeMee' object has no attribute '__youcannotseeme'",
     "output_type": "error",
     "traceback": [
      "\u001b[1;31m---------------------------------------------------------------------------\u001b[0m",
      "\u001b[1;31mAttributeError\u001b[0m                            Traceback (most recent call last)",
      "\u001b[1;32m<ipython-input-2-d6d65414f1dd>\u001b[0m in \u001b[0;36m<module>\u001b[1;34m\u001b[0m\n\u001b[0;32m     11\u001b[0m \u001b[0mprint\u001b[0m\u001b[1;33m(\u001b[0m\u001b[0mCheck\u001b[0m\u001b[1;33m.\u001b[0m\u001b[0myoucanseeme\u001b[0m\u001b[1;33m(\u001b[0m\u001b[1;33m)\u001b[0m\u001b[1;33m)\u001b[0m\u001b[1;33m\u001b[0m\u001b[1;33m\u001b[0m\u001b[0m\n\u001b[0;32m     12\u001b[0m \u001b[1;33m\u001b[0m\u001b[0m\n\u001b[1;32m---> 13\u001b[1;33m \u001b[0mprint\u001b[0m\u001b[1;33m(\u001b[0m\u001b[0mCheck\u001b[0m\u001b[1;33m.\u001b[0m\u001b[0m__youcannotseeme\u001b[0m\u001b[1;33m(\u001b[0m\u001b[1;33m)\u001b[0m\u001b[1;33m)\u001b[0m\u001b[1;33m\u001b[0m\u001b[1;33m\u001b[0m\u001b[0m\n\u001b[0m",
      "\u001b[1;31mAttributeError\u001b[0m: 'SeeMee' object has no attribute '__youcannotseeme'"
     ]
    }
   ],
   "source": [
    "class SeeMee:\n",
    "  def youcanseeme(self):\n",
    "    return 'you can see me'\n",
    "    \n",
    "  def __youcannotseeme(self):\n",
    "    return 'you cannot see me'\n",
    "    \n",
    "    \n",
    "#Outside class    \n",
    "Check = SeeMee()\n",
    "print(Check.youcanseeme())\n",
    "\n",
    "print(Check.__youcannotseeme()) \n"
   ]
  },
  {
   "cell_type": "code",
   "execution_count": 4,
   "metadata": {},
   "outputs": [
    {
     "name": "stdout",
     "output_type": "stream",
     "text": [
      "A123\n"
     ]
    },
    {
     "ename": "AttributeError",
     "evalue": "'Car' object has no attribute '_Car__ChasisNumber'",
     "output_type": "error",
     "traceback": [
      "\u001b[1;31m---------------------------------------------------------------------------\u001b[0m",
      "\u001b[1;31mAttributeError\u001b[0m                            Traceback (most recent call last)",
      "\u001b[1;32m<ipython-input-4-4e1a164c3883>\u001b[0m in \u001b[0;36m<module>\u001b[1;34m\u001b[0m\n\u001b[0;32m     18\u001b[0m \u001b[1;31m#print(obj1.__ChasisNumber)\u001b[0m\u001b[1;33m\u001b[0m\u001b[1;33m\u001b[0m\u001b[1;33m\u001b[0m\u001b[0m\n\u001b[0;32m     19\u001b[0m \u001b[1;33m\u001b[0m\u001b[0m\n\u001b[1;32m---> 20\u001b[1;33m \u001b[0mobj2\u001b[0m \u001b[1;33m=\u001b[0m \u001b[0mCar\u001b[0m\u001b[1;33m(\u001b[0m\u001b[1;33m)\u001b[0m\u001b[1;33m\u001b[0m\u001b[1;33m\u001b[0m\u001b[0m\n\u001b[0m",
      "\u001b[1;32m<ipython-input-4-4e1a164c3883>\u001b[0m in \u001b[0;36m__init__\u001b[1;34m(self)\u001b[0m\n\u001b[0;32m     11\u001b[0m         \u001b[1;31m# Calling constructor of Base class\u001b[0m\u001b[1;33m\u001b[0m\u001b[1;33m\u001b[0m\u001b[1;33m\u001b[0m\u001b[0m\n\u001b[0;32m     12\u001b[0m         \u001b[0mEngine\u001b[0m\u001b[1;33m.\u001b[0m\u001b[0m__init__\u001b[0m\u001b[1;33m(\u001b[0m\u001b[0mself\u001b[0m\u001b[1;33m)\u001b[0m\u001b[1;33m\u001b[0m\u001b[1;33m\u001b[0m\u001b[0m\n\u001b[1;32m---> 13\u001b[1;33m         \u001b[0mprint\u001b[0m\u001b[1;33m(\u001b[0m\u001b[1;34m\"Calling protected member of base class:{0}\"\u001b[0m\u001b[1;33m.\u001b[0m\u001b[0mformat\u001b[0m\u001b[1;33m(\u001b[0m\u001b[0mself\u001b[0m\u001b[1;33m.\u001b[0m\u001b[0m__ChasisNumber\u001b[0m\u001b[1;33m)\u001b[0m \u001b[1;33m)\u001b[0m\u001b[1;33m\u001b[0m\u001b[1;33m\u001b[0m\u001b[0m\n\u001b[0m\u001b[0;32m     14\u001b[0m \u001b[1;33m\u001b[0m\u001b[0m\n\u001b[0;32m     15\u001b[0m \u001b[1;33m\u001b[0m\u001b[0m\n",
      "\u001b[1;31mAttributeError\u001b[0m: 'Car' object has no attribute '_Car__ChasisNumber'"
     ]
    }
   ],
   "source": [
    "# Creating a base class\n",
    "class Engine:\n",
    "    def __init__(self):\n",
    "        self.engineNumber   = 'A123' \n",
    "        self.__ChasisNumber = 23456 # Private member\n",
    " \n",
    "# Creating a derived class   \n",
    "class Car(Engine):\n",
    "    def __init__(self):\n",
    "       \n",
    "        # Calling constructor of Base class\n",
    "        Engine.__init__(self)\n",
    "        print(\"Calling protected member of base class:{0}\".format(self.__ChasisNumber) )\n",
    "         \n",
    "\n",
    "obj1 = Engine() \n",
    "print(obj1.engineNumber)\n",
    "#print(obj1.__ChasisNumber)\n",
    "\n",
    "#obj2 = Car()\n"
   ]
  },
  {
   "cell_type": "markdown",
   "metadata": {},
   "source": [
    "-------------------------------------------------------------------------------------------------------------------------------\n",
    "-------------------------------------------------------------------------------------------------------------------------------\n",
    "\n",
    "#### Abstraction\n",
    "Abstraction is used to hide the internal functionality of the function from the users. \n",
    "- The users only interact with the basic implementation of the function, but inner working is hidden. \n",
    "- User is familiar with that \"what function does\" but they don't know \"how it does.\""
   ]
  },
  {
   "cell_type": "markdown",
   "metadata": {},
   "source": [
    "- A class that consists of one or more abstract method is called the abstract class.\n",
    "- Python provides the __abc__ module to use the abstraction in the Python program.\n",
    "- ABC works by decorating methods of the base class as abstract and then registering concrete classes as implementations of the abstract base. \n",
    "- A method becomes abstract when decorated with the keyword @abstractmethod."
   ]
  },
  {
   "cell_type": "code",
   "execution_count": 5,
   "metadata": {},
   "outputs": [
    {
     "name": "stdout",
     "output_type": "stream",
     "text": [
      "The mileage is 30kmph\n",
      "The mileage is 27kmph \n",
      "The mileage is 25kmph \n",
      "The mileage is 24kmph \n"
     ]
    }
   ],
   "source": [
    "# Python program demonstrate abstract base class work   \n",
    "\n",
    "from abc import ABC, abstractmethod   \n",
    "class Car(ABC):   \n",
    "    def mileage(self):   \n",
    "        pass  \n",
    "  \n",
    "class Tesla(Car):   \n",
    "    def mileage(self):   \n",
    "        print(\"The mileage is 30kmph\")   \n",
    "class Suzuki(Car):   \n",
    "    def mileage(self):   \n",
    "        print(\"The mileage is 25kmph \")   \n",
    "class Duster(Car):   \n",
    "     def mileage(self):   \n",
    "          print(\"The mileage is 24kmph \")   \n",
    "  \n",
    "class Renault(Car):   \n",
    "    def mileage(self):   \n",
    "            print(\"The mileage is 27kmph \")  \n",
    "            \n",
    "          \n",
    "# Driver code   \n",
    "t= Tesla ()   \n",
    "t.mileage()   \n",
    "  \n",
    "r = Renault()   \n",
    "r.mileage()   \n",
    "  \n",
    "s = Suzuki()   \n",
    "s.mileage()  \n",
    "\n",
    "d = Duster()   \n",
    "d.mileage()  "
   ]
  },
  {
   "cell_type": "markdown",
   "metadata": {},
   "source": [
    "Concrete Methods in Abstract Base Classes : \n",
    "- Concrete classes contain only concrete (normal)methods whereas abstract classes may contain both concrete methods and abstract methods. \n",
    "- The concrete class provides an implementation of abstract methods, the abstract base class can also provide an implementation by invoking the methods via super(). "
   ]
  },
  {
   "cell_type": "code",
   "execution_count": 6,
   "metadata": {},
   "outputs": [
    {
     "name": "stdout",
     "output_type": "stream",
     "text": [
      "Abstract Base Class\n",
      "subclass\n"
     ]
    }
   ],
   "source": [
    "import abc\n",
    "from abc import ABC, abstractmethod\n",
    " \n",
    "class Car(ABC):\n",
    "    def Engine(self):\n",
    "        print(\"Abstract Base Class\")\n",
    " \n",
    "class Tesla(Car):\n",
    "    def Engine(self):\n",
    "        super().Engine()\n",
    "        print(\"subclass\")\n",
    " \n",
    "# Driver code\n",
    "r = Tesla()\n",
    "r.Engine()"
   ]
  },
  {
   "cell_type": "markdown",
   "metadata": {},
   "source": [
    "Abstract Properties : \n",
    "- Abstract classes include attributes in addition to methods, you can require the attributes in concrete classes by defining them with @abstractproperty. \n",
    " "
   ]
  },
  {
   "cell_type": "code",
   "execution_count": 7,
   "metadata": {},
   "outputs": [
    {
     "name": "stdout",
     "output_type": "stream",
     "text": [
      "Can't instantiate abstract class parent with abstract methods cars\n",
      "child cars\n"
     ]
    }
   ],
   "source": [
    "import abc\n",
    "from abc import ABC, abstractmethod\n",
    " \n",
    "class parent(ABC):\n",
    "    @abc.abstractproperty\n",
    "    def cars(self):\n",
    "        return \"parent cars\"\n",
    "    \n",
    "    \n",
    "class child(parent):      \n",
    "    @property\n",
    "    def cars(self):\n",
    "        return \"child cars\"\n",
    "  \n",
    "  \n",
    "try:\n",
    "    r =parent()\n",
    "    print( r.cars)\n",
    "except Exception as err:\n",
    "    print (err)\n",
    "  \n",
    "r = child()\n",
    "print (r.cars)"
   ]
  }
 ],
 "metadata": {
  "kernelspec": {
   "display_name": "Python 3",
   "language": "python",
   "name": "python3"
  },
  "language_info": {
   "codemirror_mode": {
    "name": "ipython",
    "version": 3
   },
   "file_extension": ".py",
   "mimetype": "text/x-python",
   "name": "python",
   "nbconvert_exporter": "python",
   "pygments_lexer": "ipython3",
   "version": "3.8.5"
  }
 },
 "nbformat": 4,
 "nbformat_minor": 4
}
